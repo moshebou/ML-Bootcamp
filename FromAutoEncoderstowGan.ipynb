{
  "nbformat": 4,
  "nbformat_minor": 0,
  "metadata": {
    "colab": {
      "name": "FromAutoEncoderstowGan.ipynb",
      "provenance": [],
      "authorship_tag": "ABX9TyP7ddxc7O2RxRKZyBq/n8xr",
      "include_colab_link": true
    },
    "kernelspec": {
      "name": "python3",
      "display_name": "Python 3"
    }
  },
  "cells": [
    {
      "cell_type": "markdown",
      "metadata": {
        "id": "view-in-github",
        "colab_type": "text"
      },
      "source": [
        "<a href=\"https://colab.research.google.com/github/moshebou/ML-Bootcamp/blob/master/FromAutoEncoderstowGan.ipynb\" target=\"_parent\"><img src=\"https://colab.research.google.com/assets/colab-badge.svg\" alt=\"Open In Colab\"/></a>"
      ]
    },
    {
      "cell_type": "markdown",
      "metadata": {
        "id": "u4PT001i8Go2",
        "colab_type": "text"
      },
      "source": [
        "\n",
        "\n",
        "# From Auto Encoders to wGan\n",
        "Table of content:\n",
        "* Auto-encoders\n",
        "* Intorduction to Kullback–Leibler divergence\n",
        "* Variational Auto-Encoders\n",
        "* Jensen–Shannon divergence\n",
        "* Generative adversarial network\n",
        "* Wasserstein (a.k.a Earth-mover) distance\n",
        "* Wasserstein GAN"
      ]
    }
  ]
}